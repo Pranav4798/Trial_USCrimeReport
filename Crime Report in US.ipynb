{
 "cells": [
  {
   "cell_type": "markdown",
   "metadata": {},
   "source": [
    "# Pranav Bhagat"
   ]
  },
  {
   "cell_type": "markdown",
   "metadata": {},
   "source": [
    "# Crime Report in the country"
   ]
  },
  {
   "cell_type": "markdown",
   "metadata": {},
   "source": [
    "# 1. Objective"
   ]
  },
  {
   "cell_type": "markdown",
   "metadata": {},
   "source": [
    "We have been provided with a dataset which contains a report about the crime statistics in the United States. The dataset contains details such as the year, location, population, as well as the amount of different types of crimes commited.\n",
    "\n",
    "Our objective is to analyse the dataset and to find out ways to display information about the crime statistics to various executive officers. We can also suggest ways to improve the law and order in these locations and suggest what changes should be made to reduce the crime rate.\n",
    "\n",
    "For this assignment we will focus on the whole of United States and mainly focus on the homicides that occur in the country. From our analysis, we intend to let the executives know if any measures shouldbe taken to increase or improve security cover in any jurisdiction."
   ]
  },
  {
   "cell_type": "markdown",
   "metadata": {},
   "source": [
    "# 2. Data Exploration"
   ]
  },
  {
   "cell_type": "code",
   "execution_count": 2,
   "metadata": {},
   "outputs": [],
   "source": [
    "import pandas as pd\n",
    "import numpy as np"
   ]
  },
  {
   "cell_type": "code",
   "execution_count": 3,
   "metadata": {},
   "outputs": [],
   "source": [
    "d = pd.read_csv(\"C:/Python/report.csv\")"
   ]
  },
  {
   "cell_type": "code",
   "execution_count": 3,
   "metadata": {
    "scrolled": false
   },
   "outputs": [
    {
     "data": {
      "text/html": [
       "<div>\n",
       "<style scoped>\n",
       "    .dataframe tbody tr th:only-of-type {\n",
       "        vertical-align: middle;\n",
       "    }\n",
       "\n",
       "    .dataframe tbody tr th {\n",
       "        vertical-align: top;\n",
       "    }\n",
       "\n",
       "    .dataframe thead th {\n",
       "        text-align: right;\n",
       "    }\n",
       "</style>\n",
       "<table border=\"1\" class=\"dataframe\">\n",
       "  <thead>\n",
       "    <tr style=\"text-align: right;\">\n",
       "      <th></th>\n",
       "      <th>report_year</th>\n",
       "      <th>agency_code</th>\n",
       "      <th>agency_jurisdiction</th>\n",
       "      <th>population</th>\n",
       "      <th>violent_crimes</th>\n",
       "      <th>homicides</th>\n",
       "      <th>rapes</th>\n",
       "      <th>assaults</th>\n",
       "      <th>robberies</th>\n",
       "      <th>months_reported</th>\n",
       "      <th>crimes_percapita</th>\n",
       "      <th>homicides_percapita</th>\n",
       "      <th>rapes_percapita</th>\n",
       "      <th>assaults_percapita</th>\n",
       "      <th>robberies_percapita</th>\n",
       "    </tr>\n",
       "  </thead>\n",
       "  <tbody>\n",
       "    <tr>\n",
       "      <th>0</th>\n",
       "      <td>1975</td>\n",
       "      <td>NM00101</td>\n",
       "      <td>Albuquerque, NM</td>\n",
       "      <td>286238.0</td>\n",
       "      <td>2383.0</td>\n",
       "      <td>30.0</td>\n",
       "      <td>181.0</td>\n",
       "      <td>1353.0</td>\n",
       "      <td>819.0</td>\n",
       "      <td>12.0</td>\n",
       "      <td>832.52</td>\n",
       "      <td>10.48</td>\n",
       "      <td>63.23</td>\n",
       "      <td>472.68</td>\n",
       "      <td>286.13</td>\n",
       "    </tr>\n",
       "    <tr>\n",
       "      <th>1</th>\n",
       "      <td>1975</td>\n",
       "      <td>TX22001</td>\n",
       "      <td>Arlington, TX</td>\n",
       "      <td>112478.0</td>\n",
       "      <td>278.0</td>\n",
       "      <td>5.0</td>\n",
       "      <td>28.0</td>\n",
       "      <td>132.0</td>\n",
       "      <td>113.0</td>\n",
       "      <td>12.0</td>\n",
       "      <td>247.16</td>\n",
       "      <td>4.45</td>\n",
       "      <td>24.89</td>\n",
       "      <td>117.36</td>\n",
       "      <td>100.46</td>\n",
       "    </tr>\n",
       "    <tr>\n",
       "      <th>2</th>\n",
       "      <td>1975</td>\n",
       "      <td>GAAPD00</td>\n",
       "      <td>Atlanta, GA</td>\n",
       "      <td>490584.0</td>\n",
       "      <td>8033.0</td>\n",
       "      <td>185.0</td>\n",
       "      <td>443.0</td>\n",
       "      <td>3518.0</td>\n",
       "      <td>3887.0</td>\n",
       "      <td>12.0</td>\n",
       "      <td>1637.44</td>\n",
       "      <td>37.71</td>\n",
       "      <td>90.30</td>\n",
       "      <td>717.10</td>\n",
       "      <td>792.32</td>\n",
       "    </tr>\n",
       "    <tr>\n",
       "      <th>3</th>\n",
       "      <td>1975</td>\n",
       "      <td>CO00101</td>\n",
       "      <td>Aurora, CO</td>\n",
       "      <td>116656.0</td>\n",
       "      <td>611.0</td>\n",
       "      <td>7.0</td>\n",
       "      <td>44.0</td>\n",
       "      <td>389.0</td>\n",
       "      <td>171.0</td>\n",
       "      <td>12.0</td>\n",
       "      <td>523.76</td>\n",
       "      <td>6.00</td>\n",
       "      <td>37.72</td>\n",
       "      <td>333.46</td>\n",
       "      <td>146.58</td>\n",
       "    </tr>\n",
       "    <tr>\n",
       "      <th>4</th>\n",
       "      <td>1975</td>\n",
       "      <td>TX22701</td>\n",
       "      <td>Austin, TX</td>\n",
       "      <td>300400.0</td>\n",
       "      <td>1215.0</td>\n",
       "      <td>33.0</td>\n",
       "      <td>190.0</td>\n",
       "      <td>463.0</td>\n",
       "      <td>529.0</td>\n",
       "      <td>12.0</td>\n",
       "      <td>404.46</td>\n",
       "      <td>10.99</td>\n",
       "      <td>63.25</td>\n",
       "      <td>154.13</td>\n",
       "      <td>176.10</td>\n",
       "    </tr>\n",
       "  </tbody>\n",
       "</table>\n",
       "</div>"
      ],
      "text/plain": [
       "   report_year agency_code agency_jurisdiction  population  violent_crimes  \\\n",
       "0         1975     NM00101     Albuquerque, NM    286238.0          2383.0   \n",
       "1         1975     TX22001       Arlington, TX    112478.0           278.0   \n",
       "2         1975     GAAPD00         Atlanta, GA    490584.0          8033.0   \n",
       "3         1975     CO00101          Aurora, CO    116656.0           611.0   \n",
       "4         1975     TX22701          Austin, TX    300400.0          1215.0   \n",
       "\n",
       "   homicides  rapes  assaults  robberies  months_reported  crimes_percapita  \\\n",
       "0       30.0  181.0    1353.0      819.0             12.0            832.52   \n",
       "1        5.0   28.0     132.0      113.0             12.0            247.16   \n",
       "2      185.0  443.0    3518.0     3887.0             12.0           1637.44   \n",
       "3        7.0   44.0     389.0      171.0             12.0            523.76   \n",
       "4       33.0  190.0     463.0      529.0             12.0            404.46   \n",
       "\n",
       "   homicides_percapita  rapes_percapita  assaults_percapita  \\\n",
       "0                10.48            63.23              472.68   \n",
       "1                 4.45            24.89              117.36   \n",
       "2                37.71            90.30              717.10   \n",
       "3                 6.00            37.72              333.46   \n",
       "4                10.99            63.25              154.13   \n",
       "\n",
       "   robberies_percapita  \n",
       "0               286.13  \n",
       "1               100.46  \n",
       "2               792.32  \n",
       "3               146.58  \n",
       "4               176.10  "
      ]
     },
     "execution_count": 3,
     "metadata": {},
     "output_type": "execute_result"
    }
   ],
   "source": [
    "d.head(5)"
   ]
  },
  {
   "cell_type": "markdown",
   "metadata": {},
   "source": [
    "Here I have displayed the top 5 rows in the dataset"
   ]
  },
  {
   "cell_type": "code",
   "execution_count": 4,
   "metadata": {
    "scrolled": true
   },
   "outputs": [
    {
     "data": {
      "text/html": [
       "<div>\n",
       "<style scoped>\n",
       "    .dataframe tbody tr th:only-of-type {\n",
       "        vertical-align: middle;\n",
       "    }\n",
       "\n",
       "    .dataframe tbody tr th {\n",
       "        vertical-align: top;\n",
       "    }\n",
       "\n",
       "    .dataframe thead th {\n",
       "        text-align: right;\n",
       "    }\n",
       "</style>\n",
       "<table border=\"1\" class=\"dataframe\">\n",
       "  <thead>\n",
       "    <tr style=\"text-align: right;\">\n",
       "      <th></th>\n",
       "      <th>report_year</th>\n",
       "      <th>agency_code</th>\n",
       "      <th>agency_jurisdiction</th>\n",
       "      <th>population</th>\n",
       "      <th>violent_crimes</th>\n",
       "      <th>homicides</th>\n",
       "      <th>rapes</th>\n",
       "      <th>assaults</th>\n",
       "      <th>robberies</th>\n",
       "      <th>months_reported</th>\n",
       "      <th>crimes_percapita</th>\n",
       "      <th>homicides_percapita</th>\n",
       "      <th>rapes_percapita</th>\n",
       "      <th>assaults_percapita</th>\n",
       "      <th>robberies_percapita</th>\n",
       "    </tr>\n",
       "  </thead>\n",
       "  <tbody>\n",
       "    <tr>\n",
       "      <th>2824</th>\n",
       "      <td>2015</td>\n",
       "      <td>OK07205</td>\n",
       "      <td>Tulsa, OK</td>\n",
       "      <td>401520.0</td>\n",
       "      <td>3628.0</td>\n",
       "      <td>55.0</td>\n",
       "      <td>365.0</td>\n",
       "      <td>2354.0</td>\n",
       "      <td>854.0</td>\n",
       "      <td>NaN</td>\n",
       "      <td>903.57</td>\n",
       "      <td>13.70</td>\n",
       "      <td>90.90</td>\n",
       "      <td>586.27</td>\n",
       "      <td>212.69</td>\n",
       "    </tr>\n",
       "    <tr>\n",
       "      <th>2825</th>\n",
       "      <td>2015</td>\n",
       "      <td>VA12800</td>\n",
       "      <td>Virginia Beach, VA</td>\n",
       "      <td>452797.0</td>\n",
       "      <td>626.0</td>\n",
       "      <td>19.0</td>\n",
       "      <td>103.0</td>\n",
       "      <td>234.0</td>\n",
       "      <td>270.0</td>\n",
       "      <td>NaN</td>\n",
       "      <td>138.25</td>\n",
       "      <td>4.20</td>\n",
       "      <td>22.75</td>\n",
       "      <td>51.68</td>\n",
       "      <td>59.63</td>\n",
       "    </tr>\n",
       "    <tr>\n",
       "      <th>2826</th>\n",
       "      <td>2015</td>\n",
       "      <td>DCMPD00</td>\n",
       "      <td>Washington, DC</td>\n",
       "      <td>672228.0</td>\n",
       "      <td>8084.0</td>\n",
       "      <td>162.0</td>\n",
       "      <td>494.0</td>\n",
       "      <td>4024.0</td>\n",
       "      <td>3404.0</td>\n",
       "      <td>NaN</td>\n",
       "      <td>1202.57</td>\n",
       "      <td>24.10</td>\n",
       "      <td>73.49</td>\n",
       "      <td>598.61</td>\n",
       "      <td>506.38</td>\n",
       "    </tr>\n",
       "    <tr>\n",
       "      <th>2827</th>\n",
       "      <td>2015</td>\n",
       "      <td>KS08703</td>\n",
       "      <td>Wichita, KS</td>\n",
       "      <td>389824.0</td>\n",
       "      <td>3839.0</td>\n",
       "      <td>27.0</td>\n",
       "      <td>349.0</td>\n",
       "      <td>2730.0</td>\n",
       "      <td>733.0</td>\n",
       "      <td>NaN</td>\n",
       "      <td>984.80</td>\n",
       "      <td>6.93</td>\n",
       "      <td>89.53</td>\n",
       "      <td>700.32</td>\n",
       "      <td>188.03</td>\n",
       "    </tr>\n",
       "    <tr>\n",
       "      <th>2828</th>\n",
       "      <td>2015</td>\n",
       "      <td>NaN</td>\n",
       "      <td>United States</td>\n",
       "      <td>NaN</td>\n",
       "      <td>1197704.0</td>\n",
       "      <td>15696.0</td>\n",
       "      <td>NaN</td>\n",
       "      <td>NaN</td>\n",
       "      <td>NaN</td>\n",
       "      <td>NaN</td>\n",
       "      <td>372.60</td>\n",
       "      <td>4.90</td>\n",
       "      <td>NaN</td>\n",
       "      <td>NaN</td>\n",
       "      <td>NaN</td>\n",
       "    </tr>\n",
       "  </tbody>\n",
       "</table>\n",
       "</div>"
      ],
      "text/plain": [
       "      report_year agency_code agency_jurisdiction  population  violent_crimes  \\\n",
       "2824         2015     OK07205           Tulsa, OK    401520.0          3628.0   \n",
       "2825         2015     VA12800  Virginia Beach, VA    452797.0           626.0   \n",
       "2826         2015     DCMPD00      Washington, DC    672228.0          8084.0   \n",
       "2827         2015     KS08703         Wichita, KS    389824.0          3839.0   \n",
       "2828         2015         NaN       United States         NaN       1197704.0   \n",
       "\n",
       "      homicides  rapes  assaults  robberies  months_reported  \\\n",
       "2824       55.0  365.0    2354.0      854.0              NaN   \n",
       "2825       19.0  103.0     234.0      270.0              NaN   \n",
       "2826      162.0  494.0    4024.0     3404.0              NaN   \n",
       "2827       27.0  349.0    2730.0      733.0              NaN   \n",
       "2828    15696.0    NaN       NaN        NaN              NaN   \n",
       "\n",
       "      crimes_percapita  homicides_percapita  rapes_percapita  \\\n",
       "2824            903.57                13.70            90.90   \n",
       "2825            138.25                 4.20            22.75   \n",
       "2826           1202.57                24.10            73.49   \n",
       "2827            984.80                 6.93            89.53   \n",
       "2828            372.60                 4.90              NaN   \n",
       "\n",
       "      assaults_percapita  robberies_percapita  \n",
       "2824              586.27               212.69  \n",
       "2825               51.68                59.63  \n",
       "2826              598.61               506.38  \n",
       "2827              700.32               188.03  \n",
       "2828                 NaN                  NaN  "
      ]
     },
     "execution_count": 4,
     "metadata": {},
     "output_type": "execute_result"
    }
   ],
   "source": [
    "d.tail(5)"
   ]
  },
  {
   "cell_type": "markdown",
   "metadata": {},
   "source": [
    "Here I have displayed the bottom 5 rows in the dataset"
   ]
  },
  {
   "cell_type": "code",
   "execution_count": 20,
   "metadata": {
    "scrolled": true
   },
   "outputs": [
    {
     "data": {
      "text/plain": [
       "0.25     32.0\n",
       "0.50     64.0\n",
       "0.75    131.0\n",
       "Name: homicides, dtype: float64"
      ]
     },
     "execution_count": 20,
     "metadata": {},
     "output_type": "execute_result"
    }
   ],
   "source": [
    "d['homicides'].quantile([0.25,0.5,0.75])"
   ]
  },
  {
   "cell_type": "markdown",
   "metadata": {},
   "source": [
    "Here I have used the quantile command."
   ]
  },
  {
   "cell_type": "code",
   "execution_count": 5,
   "metadata": {},
   "outputs": [
    {
     "data": {
      "text/plain": [
       "report_year            2829\n",
       "agency_code            2788\n",
       "agency_jurisdiction    2829\n",
       "population             2760\n",
       "violent_crimes         2794\n",
       "homicides              2795\n",
       "rapes                  2754\n",
       "assaults               2753\n",
       "robberies              2754\n",
       "months_reported        2692\n",
       "crimes_percapita       2794\n",
       "homicides_percapita    2795\n",
       "rapes_percapita        2754\n",
       "assaults_percapita     2753\n",
       "robberies_percapita    2754\n",
       "dtype: int64"
      ]
     },
     "execution_count": 5,
     "metadata": {},
     "output_type": "execute_result"
    }
   ],
   "source": [
    "d.count()"
   ]
  },
  {
   "cell_type": "markdown",
   "metadata": {},
   "source": [
    "Here I have dsiplayed the length of different columns in the dataset."
   ]
  },
  {
   "cell_type": "code",
   "execution_count": 6,
   "metadata": {},
   "outputs": [
    {
     "data": {
      "text/plain": [
       "15"
      ]
     },
     "execution_count": 6,
     "metadata": {},
     "output_type": "execute_result"
    }
   ],
   "source": [
    "len(d.columns)"
   ]
  },
  {
   "cell_type": "markdown",
   "metadata": {},
   "source": [
    "Here I have displayed the number of columns in the dataset."
   ]
  },
  {
   "cell_type": "markdown",
   "metadata": {},
   "source": [
    "# 3. One Column Selection"
   ]
  },
  {
   "cell_type": "code",
   "execution_count": 7,
   "metadata": {
    "scrolled": true
   },
   "outputs": [
    {
     "name": "stdout",
     "output_type": "stream",
     "text": [
      "0    False\n",
      "1    False\n",
      "2    False\n",
      "3    False\n",
      "4    False\n",
      "Name: report_year, dtype: bool\n"
     ]
    }
   ],
   "source": [
    "is_2002 =  d['report_year']==2015\n",
    "print(is_2002.head())\n",
    "y17 = d[is_2002]"
   ]
  },
  {
   "cell_type": "markdown",
   "metadata": {},
   "source": [
    "Here I kept the year consatant at 2015 and made a data frame so as we get to consider the newest available crimereports in our analysis."
   ]
  },
  {
   "cell_type": "code",
   "execution_count": 8,
   "metadata": {
    "scrolled": true
   },
   "outputs": [
    {
     "data": {
      "text/html": [
       "<div>\n",
       "<style scoped>\n",
       "    .dataframe tbody tr th:only-of-type {\n",
       "        vertical-align: middle;\n",
       "    }\n",
       "\n",
       "    .dataframe tbody tr th {\n",
       "        vertical-align: top;\n",
       "    }\n",
       "\n",
       "    .dataframe thead th {\n",
       "        text-align: right;\n",
       "    }\n",
       "</style>\n",
       "<table border=\"1\" class=\"dataframe\">\n",
       "  <thead>\n",
       "    <tr style=\"text-align: right;\">\n",
       "      <th></th>\n",
       "      <th>report_year</th>\n",
       "      <th>agency_code</th>\n",
       "      <th>agency_jurisdiction</th>\n",
       "      <th>population</th>\n",
       "      <th>violent_crimes</th>\n",
       "      <th>homicides</th>\n",
       "      <th>rapes</th>\n",
       "      <th>assaults</th>\n",
       "      <th>robberies</th>\n",
       "      <th>months_reported</th>\n",
       "      <th>crimes_percapita</th>\n",
       "      <th>homicides_percapita</th>\n",
       "      <th>rapes_percapita</th>\n",
       "      <th>assaults_percapita</th>\n",
       "      <th>robberies_percapita</th>\n",
       "    </tr>\n",
       "  </thead>\n",
       "  <tbody>\n",
       "    <tr>\n",
       "      <th>2801</th>\n",
       "      <td>2015</td>\n",
       "      <td>NY03030</td>\n",
       "      <td>New York City, NY</td>\n",
       "      <td>8550861.0</td>\n",
       "      <td>50088.0</td>\n",
       "      <td>352.0</td>\n",
       "      <td>2244.0</td>\n",
       "      <td>30546.0</td>\n",
       "      <td>16946.0</td>\n",
       "      <td>NaN</td>\n",
       "      <td>585.77</td>\n",
       "      <td>4.12</td>\n",
       "      <td>26.24</td>\n",
       "      <td>357.23</td>\n",
       "      <td>198.18</td>\n",
       "    </tr>\n",
       "    <tr>\n",
       "      <th>2789</th>\n",
       "      <td>2015</td>\n",
       "      <td>CA01942</td>\n",
       "      <td>Los Angeles, CA</td>\n",
       "      <td>3962726.0</td>\n",
       "      <td>25156.0</td>\n",
       "      <td>282.0</td>\n",
       "      <td>2209.0</td>\n",
       "      <td>13713.0</td>\n",
       "      <td>8952.0</td>\n",
       "      <td>NaN</td>\n",
       "      <td>634.82</td>\n",
       "      <td>7.12</td>\n",
       "      <td>55.74</td>\n",
       "      <td>346.05</td>\n",
       "      <td>225.91</td>\n",
       "    </tr>\n",
       "    <tr>\n",
       "      <th>2770</th>\n",
       "      <td>2015</td>\n",
       "      <td>ILCPD00</td>\n",
       "      <td>Chicago, IL</td>\n",
       "      <td>2728695.0</td>\n",
       "      <td>24663.0</td>\n",
       "      <td>478.0</td>\n",
       "      <td>1432.0</td>\n",
       "      <td>13104.0</td>\n",
       "      <td>9649.0</td>\n",
       "      <td>NaN</td>\n",
       "      <td>903.84</td>\n",
       "      <td>17.52</td>\n",
       "      <td>52.48</td>\n",
       "      <td>480.23</td>\n",
       "      <td>353.61</td>\n",
       "    </tr>\n",
       "    <tr>\n",
       "      <th>2782</th>\n",
       "      <td>2015</td>\n",
       "      <td>TXHPD00</td>\n",
       "      <td>Houston, TX</td>\n",
       "      <td>2275221.0</td>\n",
       "      <td>21994.0</td>\n",
       "      <td>303.0</td>\n",
       "      <td>986.0</td>\n",
       "      <td>10427.0</td>\n",
       "      <td>10278.0</td>\n",
       "      <td>NaN</td>\n",
       "      <td>966.68</td>\n",
       "      <td>13.32</td>\n",
       "      <td>43.34</td>\n",
       "      <td>458.29</td>\n",
       "      <td>451.74</td>\n",
       "    </tr>\n",
       "    <tr>\n",
       "      <th>2807</th>\n",
       "      <td>2015</td>\n",
       "      <td>PAPEP00</td>\n",
       "      <td>Philadelphia, PA</td>\n",
       "      <td>1567810.0</td>\n",
       "      <td>16132.0</td>\n",
       "      <td>280.0</td>\n",
       "      <td>1322.0</td>\n",
       "      <td>7765.0</td>\n",
       "      <td>6765.0</td>\n",
       "      <td>NaN</td>\n",
       "      <td>1028.95</td>\n",
       "      <td>17.86</td>\n",
       "      <td>84.32</td>\n",
       "      <td>495.28</td>\n",
       "      <td>431.49</td>\n",
       "    </tr>\n",
       "    <tr>\n",
       "      <th>2786</th>\n",
       "      <td>2015</td>\n",
       "      <td>NV00201</td>\n",
       "      <td>Las Vegas, NV</td>\n",
       "      <td>1562134.0</td>\n",
       "      <td>14383.0</td>\n",
       "      <td>127.0</td>\n",
       "      <td>1107.0</td>\n",
       "      <td>8139.0</td>\n",
       "      <td>5010.0</td>\n",
       "      <td>NaN</td>\n",
       "      <td>920.73</td>\n",
       "      <td>8.13</td>\n",
       "      <td>70.86</td>\n",
       "      <td>521.02</td>\n",
       "      <td>320.72</td>\n",
       "    </tr>\n",
       "    <tr>\n",
       "      <th>2808</th>\n",
       "      <td>2015</td>\n",
       "      <td>AZ00723</td>\n",
       "      <td>Phoenix, AZ</td>\n",
       "      <td>1559744.0</td>\n",
       "      <td>9261.0</td>\n",
       "      <td>112.0</td>\n",
       "      <td>1016.0</td>\n",
       "      <td>5113.0</td>\n",
       "      <td>3020.0</td>\n",
       "      <td>NaN</td>\n",
       "      <td>593.75</td>\n",
       "      <td>7.18</td>\n",
       "      <td>65.14</td>\n",
       "      <td>327.81</td>\n",
       "      <td>193.62</td>\n",
       "    </tr>\n",
       "    <tr>\n",
       "      <th>2815</th>\n",
       "      <td>2015</td>\n",
       "      <td>TXSPD00</td>\n",
       "      <td>San Antonio, TX</td>\n",
       "      <td>1463586.0</td>\n",
       "      <td>8594.0</td>\n",
       "      <td>94.0</td>\n",
       "      <td>1049.0</td>\n",
       "      <td>5465.0</td>\n",
       "      <td>1986.0</td>\n",
       "      <td>NaN</td>\n",
       "      <td>587.19</td>\n",
       "      <td>6.42</td>\n",
       "      <td>71.67</td>\n",
       "      <td>373.40</td>\n",
       "      <td>135.69</td>\n",
       "    </tr>\n",
       "    <tr>\n",
       "      <th>2816</th>\n",
       "      <td>2015</td>\n",
       "      <td>CA03711</td>\n",
       "      <td>San Diego, CA</td>\n",
       "      <td>1400467.0</td>\n",
       "      <td>5582.0</td>\n",
       "      <td>37.0</td>\n",
       "      <td>566.0</td>\n",
       "      <td>3601.0</td>\n",
       "      <td>1378.0</td>\n",
       "      <td>NaN</td>\n",
       "      <td>398.58</td>\n",
       "      <td>2.64</td>\n",
       "      <td>40.42</td>\n",
       "      <td>257.13</td>\n",
       "      <td>98.40</td>\n",
       "    </tr>\n",
       "    <tr>\n",
       "      <th>2821</th>\n",
       "      <td>2015</td>\n",
       "      <td>NY05101</td>\n",
       "      <td>Suffolk County, NY</td>\n",
       "      <td>1341453.0</td>\n",
       "      <td>1675.0</td>\n",
       "      <td>24.0</td>\n",
       "      <td>79.0</td>\n",
       "      <td>895.0</td>\n",
       "      <td>677.0</td>\n",
       "      <td>NaN</td>\n",
       "      <td>124.86</td>\n",
       "      <td>1.79</td>\n",
       "      <td>5.89</td>\n",
       "      <td>66.72</td>\n",
       "      <td>50.47</td>\n",
       "    </tr>\n",
       "  </tbody>\n",
       "</table>\n",
       "</div>"
      ],
      "text/plain": [
       "      report_year agency_code agency_jurisdiction  population  violent_crimes  \\\n",
       "2801         2015     NY03030   New York City, NY   8550861.0         50088.0   \n",
       "2789         2015     CA01942     Los Angeles, CA   3962726.0         25156.0   \n",
       "2770         2015     ILCPD00         Chicago, IL   2728695.0         24663.0   \n",
       "2782         2015     TXHPD00         Houston, TX   2275221.0         21994.0   \n",
       "2807         2015     PAPEP00    Philadelphia, PA   1567810.0         16132.0   \n",
       "2786         2015     NV00201       Las Vegas, NV   1562134.0         14383.0   \n",
       "2808         2015     AZ00723         Phoenix, AZ   1559744.0          9261.0   \n",
       "2815         2015     TXSPD00     San Antonio, TX   1463586.0          8594.0   \n",
       "2816         2015     CA03711       San Diego, CA   1400467.0          5582.0   \n",
       "2821         2015     NY05101  Suffolk County, NY   1341453.0          1675.0   \n",
       "\n",
       "      homicides   rapes  assaults  robberies  months_reported  \\\n",
       "2801      352.0  2244.0   30546.0    16946.0              NaN   \n",
       "2789      282.0  2209.0   13713.0     8952.0              NaN   \n",
       "2770      478.0  1432.0   13104.0     9649.0              NaN   \n",
       "2782      303.0   986.0   10427.0    10278.0              NaN   \n",
       "2807      280.0  1322.0    7765.0     6765.0              NaN   \n",
       "2786      127.0  1107.0    8139.0     5010.0              NaN   \n",
       "2808      112.0  1016.0    5113.0     3020.0              NaN   \n",
       "2815       94.0  1049.0    5465.0     1986.0              NaN   \n",
       "2816       37.0   566.0    3601.0     1378.0              NaN   \n",
       "2821       24.0    79.0     895.0      677.0              NaN   \n",
       "\n",
       "      crimes_percapita  homicides_percapita  rapes_percapita  \\\n",
       "2801            585.77                 4.12            26.24   \n",
       "2789            634.82                 7.12            55.74   \n",
       "2770            903.84                17.52            52.48   \n",
       "2782            966.68                13.32            43.34   \n",
       "2807           1028.95                17.86            84.32   \n",
       "2786            920.73                 8.13            70.86   \n",
       "2808            593.75                 7.18            65.14   \n",
       "2815            587.19                 6.42            71.67   \n",
       "2816            398.58                 2.64            40.42   \n",
       "2821            124.86                 1.79             5.89   \n",
       "\n",
       "      assaults_percapita  robberies_percapita  \n",
       "2801              357.23               198.18  \n",
       "2789              346.05               225.91  \n",
       "2770              480.23               353.61  \n",
       "2782              458.29               451.74  \n",
       "2807              495.28               431.49  \n",
       "2786              521.02               320.72  \n",
       "2808              327.81               193.62  \n",
       "2815              373.40               135.69  \n",
       "2816              257.13                98.40  \n",
       "2821               66.72                50.47  "
      ]
     },
     "execution_count": 8,
     "metadata": {},
     "output_type": "execute_result"
    }
   ],
   "source": [
    "y17.nlargest(10, 'population')"
   ]
  },
  {
   "cell_type": "markdown",
   "metadata": {},
   "source": [
    "Here I have printed the jurisdictions which have the highest population. From this we can see that New York City, Los Angeles, Chicago, Houston are some of the jurisdictions with highest population."
   ]
  },
  {
   "cell_type": "markdown",
   "metadata": {},
   "source": [
    "# 4. Sort"
   ]
  },
  {
   "cell_type": "code",
   "execution_count": 9,
   "metadata": {
    "scrolled": true
   },
   "outputs": [
    {
     "data": {
      "text/html": [
       "<div>\n",
       "<style scoped>\n",
       "    .dataframe tbody tr th:only-of-type {\n",
       "        vertical-align: middle;\n",
       "    }\n",
       "\n",
       "    .dataframe tbody tr th {\n",
       "        vertical-align: top;\n",
       "    }\n",
       "\n",
       "    .dataframe thead th {\n",
       "        text-align: right;\n",
       "    }\n",
       "</style>\n",
       "<table border=\"1\" class=\"dataframe\">\n",
       "  <thead>\n",
       "    <tr style=\"text-align: right;\">\n",
       "      <th></th>\n",
       "      <th>report_year</th>\n",
       "      <th>agency_jurisdiction</th>\n",
       "      <th>population</th>\n",
       "      <th>violent_crimes</th>\n",
       "      <th>homicides</th>\n",
       "    </tr>\n",
       "  </thead>\n",
       "  <tbody>\n",
       "    <tr>\n",
       "      <th>0</th>\n",
       "      <td>1975</td>\n",
       "      <td>Albuquerque, NM</td>\n",
       "      <td>286238.0</td>\n",
       "      <td>2383.0</td>\n",
       "      <td>30.0</td>\n",
       "    </tr>\n",
       "    <tr>\n",
       "      <th>1</th>\n",
       "      <td>1975</td>\n",
       "      <td>Arlington, TX</td>\n",
       "      <td>112478.0</td>\n",
       "      <td>278.0</td>\n",
       "      <td>5.0</td>\n",
       "    </tr>\n",
       "    <tr>\n",
       "      <th>2</th>\n",
       "      <td>1975</td>\n",
       "      <td>Atlanta, GA</td>\n",
       "      <td>490584.0</td>\n",
       "      <td>8033.0</td>\n",
       "      <td>185.0</td>\n",
       "    </tr>\n",
       "    <tr>\n",
       "      <th>3</th>\n",
       "      <td>1975</td>\n",
       "      <td>Aurora, CO</td>\n",
       "      <td>116656.0</td>\n",
       "      <td>611.0</td>\n",
       "      <td>7.0</td>\n",
       "    </tr>\n",
       "    <tr>\n",
       "      <th>4</th>\n",
       "      <td>1975</td>\n",
       "      <td>Austin, TX</td>\n",
       "      <td>300400.0</td>\n",
       "      <td>1215.0</td>\n",
       "      <td>33.0</td>\n",
       "    </tr>\n",
       "  </tbody>\n",
       "</table>\n",
       "</div>"
      ],
      "text/plain": [
       "   report_year agency_jurisdiction  population  violent_crimes  homicides\n",
       "0         1975     Albuquerque, NM    286238.0          2383.0       30.0\n",
       "1         1975       Arlington, TX    112478.0           278.0        5.0\n",
       "2         1975         Atlanta, GA    490584.0          8033.0      185.0\n",
       "3         1975          Aurora, CO    116656.0           611.0        7.0\n",
       "4         1975          Austin, TX    300400.0          1215.0       33.0"
      ]
     },
     "execution_count": 9,
     "metadata": {},
     "output_type": "execute_result"
    }
   ],
   "source": [
    "df1 = d[['report_year','agency_jurisdiction', 'population', 'violent_crimes', 'homicides']]\n",
    "df1.head(5)"
   ]
  },
  {
   "cell_type": "code",
   "execution_count": 10,
   "metadata": {},
   "outputs": [],
   "source": [
    "df11 = df1.loc[df1['agency_jurisdiction'] != \"United States\"]\n"
   ]
  },
  {
   "cell_type": "markdown",
   "metadata": {},
   "source": [
    "Here I did not consider the rows which had United States as we are doing analysis to determine crime related statistics about the various cities."
   ]
  },
  {
   "cell_type": "code",
   "execution_count": 11,
   "metadata": {},
   "outputs": [],
   "source": [
    "is_2003 =  df11['report_year']==2015\n",
    "y15 = df11[is_2003]"
   ]
  },
  {
   "cell_type": "markdown",
   "metadata": {},
   "source": [
    "I set the year as 2015 in order to get the latest crime statistics."
   ]
  },
  {
   "cell_type": "code",
   "execution_count": 12,
   "metadata": {},
   "outputs": [
    {
     "data": {
      "text/html": [
       "<div>\n",
       "<style scoped>\n",
       "    .dataframe tbody tr th:only-of-type {\n",
       "        vertical-align: middle;\n",
       "    }\n",
       "\n",
       "    .dataframe tbody tr th {\n",
       "        vertical-align: top;\n",
       "    }\n",
       "\n",
       "    .dataframe thead th {\n",
       "        text-align: right;\n",
       "    }\n",
       "</style>\n",
       "<table border=\"1\" class=\"dataframe\">\n",
       "  <thead>\n",
       "    <tr style=\"text-align: right;\">\n",
       "      <th></th>\n",
       "      <th>report_year</th>\n",
       "      <th>agency_jurisdiction</th>\n",
       "      <th>population</th>\n",
       "      <th>violent_crimes</th>\n",
       "      <th>homicides</th>\n",
       "    </tr>\n",
       "  </thead>\n",
       "  <tbody>\n",
       "    <tr>\n",
       "      <th>2770</th>\n",
       "      <td>2015</td>\n",
       "      <td>Chicago, IL</td>\n",
       "      <td>2728695.0</td>\n",
       "      <td>24663.0</td>\n",
       "      <td>478.0</td>\n",
       "    </tr>\n",
       "    <tr>\n",
       "      <th>2801</th>\n",
       "      <td>2015</td>\n",
       "      <td>New York City, NY</td>\n",
       "      <td>8550861.0</td>\n",
       "      <td>50088.0</td>\n",
       "      <td>352.0</td>\n",
       "    </tr>\n",
       "    <tr>\n",
       "      <th>2766</th>\n",
       "      <td>2015</td>\n",
       "      <td>Baltimore, MD</td>\n",
       "      <td>621252.0</td>\n",
       "      <td>9542.0</td>\n",
       "      <td>344.0</td>\n",
       "    </tr>\n",
       "    <tr>\n",
       "      <th>2782</th>\n",
       "      <td>2015</td>\n",
       "      <td>Houston, TX</td>\n",
       "      <td>2275221.0</td>\n",
       "      <td>21994.0</td>\n",
       "      <td>303.0</td>\n",
       "    </tr>\n",
       "    <tr>\n",
       "      <th>2776</th>\n",
       "      <td>2015</td>\n",
       "      <td>Detroit, MI</td>\n",
       "      <td>673225.0</td>\n",
       "      <td>11846.0</td>\n",
       "      <td>295.0</td>\n",
       "    </tr>\n",
       "    <tr>\n",
       "      <th>2789</th>\n",
       "      <td>2015</td>\n",
       "      <td>Los Angeles, CA</td>\n",
       "      <td>3962726.0</td>\n",
       "      <td>25156.0</td>\n",
       "      <td>282.0</td>\n",
       "    </tr>\n",
       "    <tr>\n",
       "      <th>2807</th>\n",
       "      <td>2015</td>\n",
       "      <td>Philadelphia, PA</td>\n",
       "      <td>1567810.0</td>\n",
       "      <td>16132.0</td>\n",
       "      <td>280.0</td>\n",
       "    </tr>\n",
       "    <tr>\n",
       "      <th>2820</th>\n",
       "      <td>2015</td>\n",
       "      <td>St. Louis, MO</td>\n",
       "      <td>317095.0</td>\n",
       "      <td>5762.0</td>\n",
       "      <td>188.0</td>\n",
       "    </tr>\n",
       "    <tr>\n",
       "      <th>2800</th>\n",
       "      <td>2015</td>\n",
       "      <td>New Orleans, LA</td>\n",
       "      <td>393447.0</td>\n",
       "      <td>3736.0</td>\n",
       "      <td>164.0</td>\n",
       "    </tr>\n",
       "    <tr>\n",
       "      <th>2826</th>\n",
       "      <td>2015</td>\n",
       "      <td>Washington, DC</td>\n",
       "      <td>672228.0</td>\n",
       "      <td>8084.0</td>\n",
       "      <td>162.0</td>\n",
       "    </tr>\n",
       "  </tbody>\n",
       "</table>\n",
       "</div>"
      ],
      "text/plain": [
       "      report_year agency_jurisdiction  population  violent_crimes  homicides\n",
       "2770         2015         Chicago, IL   2728695.0         24663.0      478.0\n",
       "2801         2015   New York City, NY   8550861.0         50088.0      352.0\n",
       "2766         2015       Baltimore, MD    621252.0          9542.0      344.0\n",
       "2782         2015         Houston, TX   2275221.0         21994.0      303.0\n",
       "2776         2015         Detroit, MI    673225.0         11846.0      295.0\n",
       "2789         2015     Los Angeles, CA   3962726.0         25156.0      282.0\n",
       "2807         2015    Philadelphia, PA   1567810.0         16132.0      280.0\n",
       "2820         2015       St. Louis, MO    317095.0          5762.0      188.0\n",
       "2800         2015     New Orleans, LA    393447.0          3736.0      164.0\n",
       "2826         2015      Washington, DC    672228.0          8084.0      162.0"
      ]
     },
     "execution_count": 12,
     "metadata": {},
     "output_type": "execute_result"
    }
   ],
   "source": [
    "s01 = y15.sort_values(by =['homicides'], ascending = False)\n",
    "s01.head(10)"
   ]
  },
  {
   "cell_type": "markdown",
   "metadata": {},
   "source": [
    "I sorted the homicide column with ascending = False to get the jurisdictions which have the highest homicide rate. Cities such as Chicago, New York City, Baltimore, Houston are some of the top ones."
   ]
  },
  {
   "cell_type": "markdown",
   "metadata": {},
   "source": [
    "# 5. Series"
   ]
  },
  {
   "cell_type": "code",
   "execution_count": 13,
   "metadata": {
    "scrolled": true
   },
   "outputs": [
    {
     "data": {
      "text/plain": [
       "0    1975\n",
       "1    1975\n",
       "2    1975\n",
       "3    1975\n",
       "4    1975\n",
       "Name: report_year, dtype: int64"
      ]
     },
     "execution_count": 13,
     "metadata": {},
     "output_type": "execute_result"
    }
   ],
   "source": [
    "s1 = pd.Series(d['report_year'], index=d.index)\n",
    "s1.head(5)"
   ]
  },
  {
   "cell_type": "markdown",
   "metadata": {},
   "source": [
    "The data contains crime statistics from the year 1975. We preferto consider newer data i.e data from 2015."
   ]
  },
  {
   "cell_type": "code",
   "execution_count": 14,
   "metadata": {},
   "outputs": [
    {
     "data": {
      "text/plain": [
       "0    Albuquerque, NM\n",
       "1      Arlington, TX\n",
       "2        Atlanta, GA\n",
       "3         Aurora, CO\n",
       "4         Austin, TX\n",
       "Name: agency_jurisdiction, dtype: object"
      ]
     },
     "execution_count": 14,
     "metadata": {},
     "output_type": "execute_result"
    }
   ],
   "source": [
    "s2 = pd.Series(d['agency_jurisdiction'], index=d.index)\n",
    "s2.head(5)"
   ]
  },
  {
   "cell_type": "markdown",
   "metadata": {},
   "source": [
    "This series is important to know which jurisdictions have to undergo some kind of changes in law and order procedures to reduce crime rate."
   ]
  },
  {
   "cell_type": "code",
   "execution_count": 15,
   "metadata": {},
   "outputs": [
    {
     "data": {
      "text/plain": [
       "0    2383.0\n",
       "1     278.0\n",
       "2    8033.0\n",
       "3     611.0\n",
       "4    1215.0\n",
       "Name: violent_crimes, dtype: float64"
      ]
     },
     "execution_count": 15,
     "metadata": {},
     "output_type": "execute_result"
    }
   ],
   "source": [
    "s3 = pd.Series(d['violent_crimes'], index=d.index)\n",
    "s3.head(5)"
   ]
  },
  {
   "cell_type": "markdown",
   "metadata": {},
   "source": [
    "This series is important to know how many crimes take place in a particular jurisdiction so as to carry out further analysis."
   ]
  },
  {
   "cell_type": "code",
   "execution_count": 16,
   "metadata": {},
   "outputs": [
    {
     "data": {
      "text/plain": [
       "0    286238.0\n",
       "1    112478.0\n",
       "2    490584.0\n",
       "3    116656.0\n",
       "4    300400.0\n",
       "Name: population, dtype: float64"
      ]
     },
     "execution_count": 16,
     "metadata": {},
     "output_type": "execute_result"
    }
   ],
   "source": [
    "s4 = pd.Series(d['population'], index=d.index)\n",
    "s4.head(5)"
   ]
  },
  {
   "cell_type": "markdown",
   "metadata": {},
   "source": [
    "This series is important to know which jurisdictions have the highest population and which need to have high crime control measures to serve the population."
   ]
  },
  {
   "cell_type": "code",
   "execution_count": 17,
   "metadata": {},
   "outputs": [
    {
     "data": {
      "text/plain": [
       "0     30.0\n",
       "1      5.0\n",
       "2    185.0\n",
       "3      7.0\n",
       "4     33.0\n",
       "Name: homicides, dtype: float64"
      ]
     },
     "execution_count": 17,
     "metadata": {},
     "output_type": "execute_result"
    }
   ],
   "source": [
    "s5 = pd.Series(d['homicides'], index=d.index)\n",
    "s5.head(5)"
   ]
  },
  {
   "cell_type": "markdown",
   "metadata": {},
   "source": [
    "This series is important as we are carrying out a study to determine some statistics about homicides that occur in the country."
   ]
  },
  {
   "cell_type": "markdown",
   "metadata": {},
   "source": [
    "# 6. Plot"
   ]
  },
  {
   "cell_type": "code",
   "execution_count": 5,
   "metadata": {
    "scrolled": false
   },
   "outputs": [
    {
     "data": {
      "image/png": "[encoded data removed]",
      "text/plain": [
       "<Figure size 792x432 with 1 Axes>"
      ]
     },
     "metadata": {
      "needs_background": "light"
     },
     "output_type": "display_data"
    }
   ],
   "source": [
    "p1 = d.plot(x = 'report_year', y = 'population', figsize = (11,6))"
   ]
  },
  {
   "cell_type": "markdown",
   "metadata": {},
   "source": [
    "This graph shows us that the population of the country has been on the rise since 2000s."
   ]
  },
  {
   "cell_type": "code",
   "execution_count": 19,
   "metadata": {
    "scrolled": false
   },
   "outputs": [
    {
     "data": {
      "image/png": "[encoded data removed]",
      "text/plain": [
       "<Figure size 792x432 with 1 Axes>"
      ]
     },
     "metadata": {
      "needs_background": "light"
     },
     "output_type": "display_data"
    }
   ],
   "source": [
    "p1 = d.plot(x = 'report_year', y = 'homicides', figsize = (11,6))"
   ]
  },
  {
   "cell_type": "markdown",
   "metadata": {},
   "source": [
    "From the plot, we can see that the the rate of homicide was high during 1990 to 1997 but recent reports have shown that the rate of homicide has gone down. "
   ]
  },
  {
   "cell_type": "markdown",
   "metadata": {},
   "source": [
    "Fromthe comparison of both the graphs, we can say that even though the population in ever increasing, the rate of homicidehas gone down in the country. Hence this is a good sign that the security agencies are performing well and results can be seen from the graph."
   ]
  },
  {
   "cell_type": "markdown",
   "metadata": {},
   "source": [
    "# 7. Summary"
   ]
  },
  {
   "cell_type": "markdown",
   "metadata": {},
   "source": [
    "In the #3 one column selection, we sorted the dataset by highest population and came to know of the most populous jurisdictions in the United States. Some of these jurisdictions are, New York, Los Angeles, Chicago, Houston, Philadelphia along with others.\n",
    "\n",
    "From the #4 sort, we came to know about the jurisdictions which have the highest rate of homicide. The jurisdictions which have the highest rate of homicides are, Chicago, New York, Baltimore, Houston, Detroit as well as others.\n",
    "\n",
    "From the #6 plots, we come to know that although the population is ever increasing, the rate of homicide in the country has gone down. This means that the security agencies are doing a good job of maintaining law and order within their jurisdictions. However we need to further bring down the rate to ensure that the citizens live peaceful lives."
   ]
  },
  {
   "cell_type": "markdown",
   "metadata": {},
   "source": [
    "# 8. Recommendations"
   ]
  },
  {
   "cell_type": "markdown",
   "metadata": {},
   "source": [
    "From the above analysis and summary, we can say that the security agencies are doing a good job of bringing down the homicide cases in the country. However, some jurisidctions do have a high rate of homicide. This may also be the case due to high population of the cities. Some of the cities which need to have harder or improved security presence are, Chicago, New York, Los Angeles, Houston and Philadelphia.   "
   ]
  }
 ],
 "metadata": {
  "kernelspec": {
   "display_name": "Python 3",
   "language": "python",
   "name": "python3"
  },
  "language_info": {
   "codemirror_mode": {
    "name": "ipython",
    "version": 3
   },
   "file_extension": ".py",
   "mimetype": "text/x-python",
   "name": "python",
   "nbconvert_exporter": "python",
   "pygments_lexer": "ipython3",
   "version": "3.7.3"
  }
 },
 "nbformat": 4,
 "nbformat_minor": 2
}
